{
 "cells": [
  {
   "cell_type": "markdown",
   "metadata": {},
   "source": [
    "## 6.1 매개변수 갱신\n",
    "### 6.1.2 확률적 경사 하강법(SGD)\n",
    "SGD는 비등방성(anisotropy) 함수(방향에 따라 성질, 즉 여기에서는 기울기가 달라지는 함수)에서는 탐색 경로가 비효율적임."
   ]
  },
  {
   "cell_type": "code",
   "execution_count": 1,
   "metadata": {},
   "outputs": [],
   "source": [
    "class SGD:\n",
    "    def __init__(self, lr=0.01):\n",
    "        self.lr = lr\n",
    "    \n",
    "    def update(self, params, grads):\n",
    "        for key in params.keys():\n",
    "            params[key] -= self.lr * grads[key]"
   ]
  },
  {
   "cell_type": "markdown",
   "metadata": {},
   "source": [
    "### 6.1.4 모멘텀"
   ]
  },
  {
   "cell_type": "code",
   "execution_count": 3,
   "metadata": {},
   "outputs": [],
   "source": [
    "class Momentum:\n",
    "    def __init__(self, lr=0.01, momentum=0.9):\n",
    "        self.lr = lr\n",
    "        self.momentum = momentum\n",
    "        self.v = None\n",
    "    \n",
    "    def update(self, params, grads):\n",
    "        if self.v is None:\n",
    "            self.v = {}\n",
    "            for key, val in params.items():\n",
    "                self.v[key] = np.zeros_like(val)\n",
    "        \n",
    "        for key in params.keys():\n",
    "            self.v[key] = self.momentum*self.v[key] - self.lr*grads[key]\n",
    "            params[key] += self.v[key]"
   ]
  },
  {
   "cell_type": "markdown",
   "metadata": {},
   "source": [
    "### 6.1.5 AdaGrad"
   ]
  },
  {
   "cell_type": "code",
   "execution_count": 4,
   "metadata": {},
   "outputs": [],
   "source": [
    "import numpy as np\n",
    "\n",
    "class AdaGrad:\n",
    "    def __init__(self, lr=0.01):\n",
    "        self.lr = lr\n",
    "        self.h = None\n",
    "    \n",
    "    def update(self, params, grads):\n",
    "        if self.h is None:\n",
    "            self.h = {}\n",
    "            for key, val in params.items():\n",
    "                self.h[key] = np.zeros_like(val)\n",
    "        \n",
    "        for key in params.keys():\n",
    "            self.h[key] += grads[key] * grads[key]\n",
    "            params[key] -= self.lr * grads[key] / (np.sqrt(self.h[key]) + 1e-7)"
   ]
  },
  {
   "cell_type": "markdown",
   "metadata": {},
   "source": [
    "## 6.2 가중치의 초깃값\n",
    "### 6.2.2 은닉층의 활성화값 분포\n",
    "- 활성화 함수로 ReLU를 사용: He 초깃값\n",
    "- 활성화 함수로 sigmoid나 tanh 등의 S자 모양 곡선 사용: Xavier 초깃값"
   ]
  },
  {
   "cell_type": "code",
   "execution_count": 8,
   "metadata": {},
   "outputs": [
    {
     "data": {
      "image/png": "[encoded data removed]",
      "text/plain": [
       "<Figure size 432x288 with 5 Axes>"
      ]
     },
     "metadata": {
      "needs_background": "light"
     },
     "output_type": "display_data"
    }
   ],
   "source": [
    "# coding: utf-8\n",
    "import numpy as np\n",
    "import matplotlib.pyplot as plt\n",
    "\n",
    "\n",
    "def sigmoid(x):\n",
    "    return 1 / (1 + np.exp(-x))\n",
    "\n",
    "\n",
    "def ReLU(x):\n",
    "    return np.maximum(0, x)\n",
    "\n",
    "\n",
    "def tanh(x):\n",
    "    return np.tanh(x)\n",
    "    \n",
    "input_data = np.random.randn(1000, 100)  # 1000개의 데이터\n",
    "node_num = 100  # 각 은닉층의 노드(뉴런) 수\n",
    "hidden_layer_size = 5  # 은닉층이 5개\n",
    "activations = {}  # 이곳에 활성화 결과를 저장\n",
    "\n",
    "x = input_data\n",
    "\n",
    "for i in range(hidden_layer_size):\n",
    "    if i != 0:\n",
    "        x = activations[i-1]\n",
    "\n",
    "    # 초깃값을 다양하게 바꿔가며 실험해보자！\n",
    "    # w = np.random.randn(node_num, node_num) * 1\n",
    "    # w = np.random.randn(node_num, node_num) * 0.01\n",
    "    # w = np.random.randn(node_num, node_num) * np.sqrt(1.0 / node_num)\n",
    "    w = np.random.randn(node_num, node_num) * np.sqrt(2.0 / node_num)\n",
    "\n",
    "\n",
    "    a = np.dot(x, w)\n",
    "\n",
    "\n",
    "    # 활성화 함수도 바꿔가며 실험해보자！\n",
    "    z = sigmoid(a)\n",
    "    # z = ReLU(a)\n",
    "    # z = tanh(a)\n",
    "\n",
    "    activations[i] = z\n",
    "\n",
    "# 히스토그램 그리기\n",
    "for i, a in activations.items():\n",
    "    plt.subplot(1, len(activations), i+1)\n",
    "    plt.title(str(i+1) + \"-layer\")\n",
    "    if i != 0: plt.yticks([], [])\n",
    "    # plt.xlim(0.1, 1)\n",
    "    # plt.ylim(0, 7000)\n",
    "    plt.hist(a.flatten(), 30, range=(0,1))\n",
    "plt.show()"
   ]
  },
  {
   "cell_type": "markdown",
   "metadata": {},
   "source": [
    "### 6.2.4 MNIST 데이터셋으로 본 가중치 초깃값 비교"
   ]
  },
  {
   "cell_type": "code",
   "execution_count": 9,
   "metadata": {},
   "outputs": [
    {
     "name": "stdout",
     "output_type": "stream",
     "text": [
      "===========iteration:0===========\n",
      "std=0.01:2.3025536973231375\n",
      "Xavier:2.2961706328395515\n",
      "He:2.3251117319591477\n",
      "===========iteration:100===========\n",
      "std=0.01:2.3022992301829657\n",
      "Xavier:2.235501052300578\n",
      "He:1.4091641653917208\n",
      "===========iteration:200===========\n",
      "std=0.01:2.3011852958352694\n",
      "Xavier:2.1147483608201805\n",
      "He:0.7117225768992722\n",
      "===========iteration:300===========\n",
      "std=0.01:2.303170166305585\n",
      "Xavier:1.9087450970105766\n",
      "He:0.6433453958717753\n",
      "===========iteration:400===========\n",
      "std=0.01:2.3030224535513804\n",
      "Xavier:1.3289779268251305\n",
      "He:0.5407519352284582\n",
      "===========iteration:500===========\n",
      "std=0.01:2.3008304351029616\n",
      "Xavier:0.8663676196809116\n",
      "He:0.36760815875320063\n",
      "===========iteration:600===========\n",
      "std=0.01:2.3000228259751796\n",
      "Xavier:0.6277135116591595\n",
      "He:0.31238577005887724\n",
      "===========iteration:700===========\n",
      "std=0.01:2.3018020375743546\n",
      "Xavier:0.5739629095785451\n",
      "He:0.33116030543825065\n",
      "===========iteration:800===========\n",
      "std=0.01:2.308175611090916\n",
      "Xavier:0.4464847504482858\n",
      "He:0.29256638182585326\n",
      "===========iteration:900===========\n",
      "std=0.01:2.3003048335196934\n",
      "Xavier:0.5136929257382963\n",
      "He:0.343873785879549\n",
      "===========iteration:1000===========\n",
      "std=0.01:2.3012897844780618\n",
      "Xavier:0.3825509500700611\n",
      "He:0.24640103627533116\n",
      "===========iteration:1100===========\n",
      "std=0.01:2.3045861977338427\n",
      "Xavier:0.33997415943768183\n",
      "He:0.2232363892116881\n",
      "===========iteration:1200===========\n",
      "std=0.01:2.297961424891925\n",
      "Xavier:0.3809332141568809\n",
      "He:0.23319364047382557\n",
      "===========iteration:1300===========\n",
      "std=0.01:2.2982215428262434\n",
      "Xavier:0.31598538055593417\n",
      "He:0.20123746601826703\n",
      "===========iteration:1400===========\n",
      "std=0.01:2.30053344625403\n",
      "Xavier:0.3399769132825471\n",
      "He:0.23131972782780494\n",
      "===========iteration:1500===========\n",
      "std=0.01:2.3019193853303497\n",
      "Xavier:0.29905126373409263\n",
      "He:0.2039385332565344\n",
      "===========iteration:1600===========\n",
      "std=0.01:2.2950699807480808\n",
      "Xavier:0.25720097062191516\n",
      "He:0.17592297055774267\n",
      "===========iteration:1700===========\n",
      "std=0.01:2.302071506433957\n",
      "Xavier:0.36439929858177195\n",
      "He:0.22565492244798285\n",
      "===========iteration:1800===========\n",
      "std=0.01:2.3030236947945886\n",
      "Xavier:0.3213753142206094\n",
      "He:0.23939967244556504\n",
      "===========iteration:1900===========\n",
      "std=0.01:2.3000866496941796\n",
      "Xavier:0.3175982425993098\n",
      "He:0.20380374457734185\n"
     ]
    },
    {
     "data": {
      "image/png": "[encoded data removed]",
      "text/plain": [
       "<Figure size 432x288 with 1 Axes>"
      ]
     },
     "metadata": {
      "needs_background": "light"
     },
     "output_type": "display_data"
    }
   ],
   "source": [
    "# coding: utf-8\n",
    "import os\n",
    "import sys\n",
    "\n",
    "sys.path.append(os.pardir)  # 부모 디렉터리의 파일을 가져올 수 있도록 설정\n",
    "import numpy as np\n",
    "import matplotlib.pyplot as plt\n",
    "from mnist import load_mnist\n",
    "from common.util import smooth_curve\n",
    "from common.multi_layer_net import MultiLayerNet\n",
    "from common.optimizer import SGD\n",
    "\n",
    "\n",
    "# 0. MNIST 데이터 읽기==========\n",
    "(x_train, t_train), (x_test, t_test) = load_mnist(normalize=True)\n",
    "\n",
    "train_size = x_train.shape[0]\n",
    "batch_size = 128\n",
    "max_iterations = 2000\n",
    "\n",
    "\n",
    "# 1. 실험용 설정==========\n",
    "weight_init_types = {'std=0.01': 0.01, 'Xavier': 'sigmoid', 'He': 'relu'}\n",
    "optimizer = SGD(lr=0.01)\n",
    "\n",
    "networks = {}\n",
    "train_loss = {}\n",
    "for key, weight_type in weight_init_types.items():\n",
    "    networks[key] = MultiLayerNet(input_size=784, hidden_size_list=[100, 100, 100, 100],\n",
    "                                  output_size=10, weight_init_std=weight_type)\n",
    "    train_loss[key] = []\n",
    "\n",
    "\n",
    "# 2. 훈련 시작==========\n",
    "for i in range(max_iterations):\n",
    "    batch_mask = np.random.choice(train_size, batch_size)\n",
    "    x_batch = x_train[batch_mask]\n",
    "    t_batch = t_train[batch_mask]\n",
    "    \n",
    "    for key in weight_init_types.keys():\n",
    "        grads = networks[key].gradient(x_batch, t_batch)\n",
    "        optimizer.update(networks[key].params, grads)\n",
    "    \n",
    "        loss = networks[key].loss(x_batch, t_batch)\n",
    "        train_loss[key].append(loss)\n",
    "    \n",
    "    if i % 100 == 0:\n",
    "        print(\"===========\" + \"iteration:\" + str(i) + \"===========\")\n",
    "        for key in weight_init_types.keys():\n",
    "            loss = networks[key].loss(x_batch, t_batch)\n",
    "            print(key + \":\" + str(loss))\n",
    "\n",
    "\n",
    "# 3. 그래프 그리기==========\n",
    "markers = {'std=0.01': 'o', 'Xavier': 's', 'He': 'D'}\n",
    "x = np.arange(max_iterations)\n",
    "for key in weight_init_types.keys():\n",
    "    plt.plot(x, smooth_curve(train_loss[key]), marker=markers[key], markevery=100, label=key)\n",
    "plt.xlabel(\"iterations\")\n",
    "plt.ylabel(\"loss\")\n",
    "plt.ylim(0, 2.5)\n",
    "plt.legend()\n",
    "plt.show()"
   ]
  },
  {
   "cell_type": "markdown",
   "metadata": {},
   "source": [
    "### 6.3.2 배치 정규화의 효과"
   ]
  },
  {
   "cell_type": "code",
   "execution_count": 10,
   "metadata": {},
   "outputs": [
    {
     "name": "stdout",
     "output_type": "stream",
     "text": [
      "============== 1/16 ==============\n",
      "epoch:0 | 0.097 - 0.119\n"
     ]
    },
    {
     "name": "stderr",
     "output_type": "stream",
     "text": [
      "/workspace/Python-Deep-Learning/src/Deep Learning from Scratch 1/common/functions.py:34: RuntimeWarning: invalid value encountered in subtract\n",
      "  x = x - np.max(x, axis=0)\n"
     ]
    },
    {
     "name": "stdout",
     "output_type": "stream",
     "text": [
      "epoch:1 | 0.097 - 0.146\n",
      "epoch:2 | 0.097 - 0.136\n",
      "epoch:3 | 0.097 - 0.146\n",
      "epoch:4 | 0.097 - 0.16\n",
      "epoch:5 | 0.097 - 0.172\n",
      "epoch:6 | 0.097 - 0.193\n",
      "epoch:7 | 0.097 - 0.201\n",
      "epoch:8 | 0.097 - 0.234\n",
      "epoch:9 | 0.097 - 0.251\n",
      "epoch:10 | 0.097 - 0.272\n",
      "epoch:11 | 0.097 - 0.299\n",
      "epoch:12 | 0.097 - 0.313\n",
      "epoch:13 | 0.097 - 0.322\n",
      "epoch:14 | 0.097 - 0.345\n",
      "epoch:15 | 0.097 - 0.357\n",
      "epoch:16 | 0.097 - 0.367\n",
      "epoch:17 | 0.097 - 0.399\n",
      "epoch:18 | 0.097 - 0.407\n"
     ]
    },
    {
     "name": "stderr",
     "output_type": "stream",
     "text": [
      "No handles with labels found to put in legend.\n"
     ]
    },
    {
     "name": "stdout",
     "output_type": "stream",
     "text": [
      "epoch:19 | 0.097 - 0.427\n",
      "============== 2/16 ==============\n",
      "epoch:0 | 0.094 - 0.101\n"
     ]
    },
    {
     "name": "stderr",
     "output_type": "stream",
     "text": [
      "/workspace/Python-Deep-Learning/src/Deep Learning from Scratch 1/common/multi_layer_net_extend.py:104: RuntimeWarning: overflow encountered in square\n",
      "  weight_decay += 0.5 * self.weight_decay_lambda * np.sum(W**2)\n",
      "/workspace/Python-Deep-Learning/src/Deep Learning from Scratch 1/common/multi_layer_net_extend.py:104: RuntimeWarning: invalid value encountered in double_scalars\n",
      "  weight_decay += 0.5 * self.weight_decay_lambda * np.sum(W**2)\n",
      "/workspace/Python-Deep-Learning/src/Deep Learning from Scratch 1/common/functions.py:34: RuntimeWarning: invalid value encountered in subtract\n",
      "  x = x - np.max(x, axis=0)\n"
     ]
    },
    {
     "name": "stdout",
     "output_type": "stream",
     "text": [
      "epoch:1 | 0.097 - 0.124\n",
      "epoch:2 | 0.097 - 0.137\n",
      "epoch:3 | 0.097 - 0.147\n",
      "epoch:4 | 0.097 - 0.172\n",
      "epoch:5 | 0.097 - 0.188\n",
      "epoch:6 | 0.097 - 0.21\n",
      "epoch:7 | 0.097 - 0.232\n",
      "epoch:8 | 0.097 - 0.266\n",
      "epoch:9 | 0.097 - 0.286\n",
      "epoch:10 | 0.097 - 0.304\n",
      "epoch:11 | 0.097 - 0.339\n",
      "epoch:12 | 0.097 - 0.358\n",
      "epoch:13 | 0.097 - 0.379\n",
      "epoch:14 | 0.097 - 0.406\n",
      "epoch:15 | 0.097 - 0.427\n",
      "epoch:16 | 0.097 - 0.439\n",
      "epoch:17 | 0.097 - 0.46\n",
      "epoch:18 | 0.097 - 0.48\n"
     ]
    },
    {
     "name": "stderr",
     "output_type": "stream",
     "text": [
      "No handles with labels found to put in legend.\n"
     ]
    },
    {
     "name": "stdout",
     "output_type": "stream",
     "text": [
      "epoch:19 | 0.097 - 0.484\n",
      "============== 3/16 ==============\n",
      "epoch:0 | 0.147 - 0.092\n",
      "epoch:1 | 0.267 - 0.104\n",
      "epoch:2 | 0.406 - 0.143\n",
      "epoch:3 | 0.515 - 0.222\n",
      "epoch:4 | 0.587 - 0.264\n",
      "epoch:5 | 0.649 - 0.31\n",
      "epoch:6 | 0.68 - 0.351\n",
      "epoch:7 | 0.742 - 0.384\n",
      "epoch:8 | 0.78 - 0.4\n",
      "epoch:9 | 0.81 - 0.439\n",
      "epoch:10 | 0.836 - 0.467\n",
      "epoch:11 | 0.862 - 0.495\n",
      "epoch:12 | 0.87 - 0.518\n",
      "epoch:13 | 0.897 - 0.542\n",
      "epoch:14 | 0.916 - 0.56\n",
      "epoch:15 | 0.922 - 0.581\n",
      "epoch:16 | 0.934 - 0.607\n",
      "epoch:17 | 0.935 - 0.614\n",
      "epoch:18 | 0.947 - 0.635\n"
     ]
    },
    {
     "name": "stderr",
     "output_type": "stream",
     "text": [
      "No handles with labels found to put in legend.\n"
     ]
    },
    {
     "name": "stdout",
     "output_type": "stream",
     "text": [
      "epoch:19 | 0.959 - 0.663\n",
      "============== 4/16 ==============\n",
      "epoch:0 | 0.102 - 0.072\n",
      "epoch:1 | 0.21 - 0.095\n",
      "epoch:2 | 0.378 - 0.155\n",
      "epoch:3 | 0.507 - 0.207\n",
      "epoch:4 | 0.581 - 0.286\n",
      "epoch:5 | 0.624 - 0.371\n",
      "epoch:6 | 0.669 - 0.431\n",
      "epoch:7 | 0.683 - 0.487\n",
      "epoch:8 | 0.735 - 0.544\n",
      "epoch:9 | 0.761 - 0.583\n",
      "epoch:10 | 0.77 - 0.619\n",
      "epoch:11 | 0.79 - 0.65\n",
      "epoch:12 | 0.788 - 0.673\n",
      "epoch:13 | 0.813 - 0.706\n",
      "epoch:14 | 0.82 - 0.74\n",
      "epoch:15 | 0.834 - 0.744\n",
      "epoch:16 | 0.834 - 0.76\n",
      "epoch:17 | 0.836 - 0.776\n",
      "epoch:18 | 0.854 - 0.783\n"
     ]
    },
    {
     "name": "stderr",
     "output_type": "stream",
     "text": [
      "No handles with labels found to put in legend.\n"
     ]
    },
    {
     "name": "stdout",
     "output_type": "stream",
     "text": [
      "epoch:19 | 0.864 - 0.799\n",
      "============== 5/16 ==============\n",
      "epoch:0 | 0.1 - 0.115\n",
      "epoch:1 | 0.102 - 0.155\n",
      "epoch:2 | 0.102 - 0.263\n",
      "epoch:3 | 0.112 - 0.35\n",
      "epoch:4 | 0.121 - 0.439\n",
      "epoch:5 | 0.122 - 0.537\n",
      "epoch:6 | 0.133 - 0.605\n",
      "epoch:7 | 0.145 - 0.668\n",
      "epoch:8 | 0.169 - 0.697\n",
      "epoch:9 | 0.184 - 0.732\n",
      "epoch:10 | 0.198 - 0.748\n",
      "epoch:11 | 0.219 - 0.771\n",
      "epoch:12 | 0.219 - 0.795\n",
      "epoch:13 | 0.233 - 0.807\n",
      "epoch:14 | 0.241 - 0.818\n",
      "epoch:15 | 0.259 - 0.832\n",
      "epoch:16 | 0.259 - 0.842\n",
      "epoch:17 | 0.268 - 0.852\n",
      "epoch:18 | 0.264 - 0.868\n"
     ]
    },
    {
     "name": "stderr",
     "output_type": "stream",
     "text": [
      "No handles with labels found to put in legend.\n"
     ]
    },
    {
     "name": "stdout",
     "output_type": "stream",
     "text": [
      "epoch:19 | 0.257 - 0.875\n",
      "============== 6/16 ==============\n",
      "epoch:0 | 0.072 - 0.112\n",
      "epoch:1 | 0.117 - 0.179\n",
      "epoch:2 | 0.117 - 0.432\n",
      "epoch:3 | 0.117 - 0.573\n",
      "epoch:4 | 0.117 - 0.634\n",
      "epoch:5 | 0.117 - 0.693\n",
      "epoch:6 | 0.134 - 0.736\n",
      "epoch:7 | 0.134 - 0.77\n",
      "epoch:8 | 0.153 - 0.795\n",
      "epoch:9 | 0.121 - 0.816\n",
      "epoch:10 | 0.117 - 0.831\n",
      "epoch:11 | 0.117 - 0.84\n",
      "epoch:12 | 0.117 - 0.87\n",
      "epoch:13 | 0.119 - 0.878\n",
      "epoch:14 | 0.117 - 0.891\n",
      "epoch:15 | 0.119 - 0.909\n",
      "epoch:16 | 0.117 - 0.915\n",
      "epoch:17 | 0.192 - 0.923\n",
      "epoch:18 | 0.136 - 0.933\n"
     ]
    },
    {
     "name": "stderr",
     "output_type": "stream",
     "text": [
      "No handles with labels found to put in legend.\n"
     ]
    },
    {
     "name": "stdout",
     "output_type": "stream",
     "text": [
      "epoch:19 | 0.116 - 0.936\n",
      "============== 7/16 ==============\n",
      "epoch:0 | 0.105 - 0.095\n",
      "epoch:1 | 0.105 - 0.251\n",
      "epoch:2 | 0.105 - 0.486\n",
      "epoch:3 | 0.105 - 0.68\n",
      "epoch:4 | 0.117 - 0.782\n",
      "epoch:5 | 0.117 - 0.832\n",
      "epoch:6 | 0.117 - 0.851\n",
      "epoch:7 | 0.117 - 0.882\n",
      "epoch:8 | 0.117 - 0.905\n",
      "epoch:9 | 0.117 - 0.925\n",
      "epoch:10 | 0.117 - 0.944\n",
      "epoch:11 | 0.117 - 0.95\n",
      "epoch:12 | 0.117 - 0.96\n",
      "epoch:13 | 0.117 - 0.965\n",
      "epoch:14 | 0.117 - 0.972\n",
      "epoch:15 | 0.117 - 0.977\n",
      "epoch:16 | 0.117 - 0.983\n",
      "epoch:17 | 0.117 - 0.985\n",
      "epoch:18 | 0.117 - 0.986\n"
     ]
    },
    {
     "name": "stderr",
     "output_type": "stream",
     "text": [
      "No handles with labels found to put in legend.\n"
     ]
    },
    {
     "name": "stdout",
     "output_type": "stream",
     "text": [
      "epoch:19 | 0.117 - 0.99\n",
      "============== 8/16 ==============\n",
      "epoch:0 | 0.085 - 0.113\n",
      "epoch:1 | 0.1 - 0.444\n",
      "epoch:2 | 0.116 - 0.691\n",
      "epoch:3 | 0.116 - 0.773\n",
      "epoch:4 | 0.116 - 0.813\n",
      "epoch:5 | 0.116 - 0.843\n",
      "epoch:6 | 0.116 - 0.882\n",
      "epoch:7 | 0.116 - 0.917\n",
      "epoch:8 | 0.116 - 0.93\n",
      "epoch:9 | 0.116 - 0.947\n",
      "epoch:10 | 0.131 - 0.967\n",
      "epoch:11 | 0.117 - 0.977\n",
      "epoch:12 | 0.117 - 0.983\n",
      "epoch:13 | 0.117 - 0.987\n",
      "epoch:14 | 0.117 - 0.993\n",
      "epoch:15 | 0.117 - 0.994\n",
      "epoch:16 | 0.117 - 0.994\n",
      "epoch:17 | 0.117 - 0.994\n",
      "epoch:18 | 0.117 - 0.995\n"
     ]
    },
    {
     "name": "stderr",
     "output_type": "stream",
     "text": [
      "No handles with labels found to put in legend.\n"
     ]
    },
    {
     "name": "stdout",
     "output_type": "stream",
     "text": [
      "epoch:19 | 0.117 - 0.996\n",
      "============== 9/16 ==============\n",
      "epoch:0 | 0.105 - 0.129\n",
      "epoch:1 | 0.105 - 0.347\n",
      "epoch:2 | 0.094 - 0.713\n",
      "epoch:3 | 0.117 - 0.827\n",
      "epoch:4 | 0.117 - 0.897\n",
      "epoch:5 | 0.116 - 0.933\n",
      "epoch:6 | 0.116 - 0.965\n",
      "epoch:7 | 0.117 - 0.977\n",
      "epoch:8 | 0.117 - 0.98\n",
      "epoch:9 | 0.117 - 0.993\n",
      "epoch:10 | 0.117 - 0.995\n",
      "epoch:11 | 0.117 - 0.997\n",
      "epoch:12 | 0.117 - 0.997\n",
      "epoch:13 | 0.117 - 0.999\n",
      "epoch:14 | 0.117 - 0.999\n",
      "epoch:15 | 0.117 - 0.999\n",
      "epoch:16 | 0.117 - 1.0\n",
      "epoch:17 | 0.117 - 1.0\n",
      "epoch:18 | 0.117 - 1.0\n"
     ]
    },
    {
     "name": "stderr",
     "output_type": "stream",
     "text": [
      "No handles with labels found to put in legend.\n"
     ]
    },
    {
     "name": "stdout",
     "output_type": "stream",
     "text": [
      "epoch:19 | 0.117 - 1.0\n",
      "============== 10/16 ==============\n",
      "epoch:0 | 0.092 - 0.121\n",
      "epoch:1 | 0.117 - 0.483\n",
      "epoch:2 | 0.117 - 0.718\n",
      "epoch:3 | 0.117 - 0.752\n",
      "epoch:4 | 0.117 - 0.815\n",
      "epoch:5 | 0.117 - 0.845\n",
      "epoch:6 | 0.117 - 0.914\n",
      "epoch:7 | 0.117 - 0.89\n",
      "epoch:8 | 0.117 - 0.964\n",
      "epoch:9 | 0.117 - 0.963\n",
      "epoch:10 | 0.116 - 0.952\n",
      "epoch:11 | 0.117 - 0.989\n",
      "epoch:12 | 0.116 - 0.994\n",
      "epoch:13 | 0.116 - 0.993\n",
      "epoch:14 | 0.116 - 0.996\n",
      "epoch:15 | 0.116 - 0.996\n",
      "epoch:16 | 0.116 - 0.996\n",
      "epoch:17 | 0.116 - 0.995\n",
      "epoch:18 | 0.116 - 0.996\n"
     ]
    },
    {
     "name": "stderr",
     "output_type": "stream",
     "text": [
      "No handles with labels found to put in legend.\n"
     ]
    },
    {
     "name": "stdout",
     "output_type": "stream",
     "text": [
      "epoch:19 | 0.117 - 0.998\n",
      "============== 11/16 ==============\n",
      "epoch:0 | 0.117 - 0.155\n",
      "epoch:1 | 0.116 - 0.607\n",
      "epoch:2 | 0.116 - 0.706\n",
      "epoch:3 | 0.116 - 0.678\n",
      "epoch:4 | 0.116 - 0.669\n",
      "epoch:5 | 0.116 - 0.692\n",
      "epoch:6 | 0.116 - 0.731\n",
      "epoch:7 | 0.117 - 0.699\n",
      "epoch:8 | 0.117 - 0.867\n",
      "epoch:9 | 0.117 - 0.755\n",
      "epoch:10 | 0.117 - 0.88\n",
      "epoch:11 | 0.117 - 0.865\n",
      "epoch:12 | 0.117 - 0.883\n",
      "epoch:13 | 0.116 - 0.889\n",
      "epoch:14 | 0.116 - 0.899\n",
      "epoch:15 | 0.116 - 0.895\n",
      "epoch:16 | 0.116 - 0.9\n",
      "epoch:17 | 0.116 - 0.901\n",
      "epoch:18 | 0.116 - 0.897\n"
     ]
    },
    {
     "name": "stderr",
     "output_type": "stream",
     "text": [
      "No handles with labels found to put in legend.\n"
     ]
    },
    {
     "name": "stdout",
     "output_type": "stream",
     "text": [
      "epoch:19 | 0.117 - 0.895\n",
      "============== 12/16 ==============\n",
      "epoch:0 | 0.116 - 0.174\n",
      "epoch:1 | 0.116 - 0.386\n",
      "epoch:2 | 0.116 - 0.557\n",
      "epoch:3 | 0.116 - 0.57\n",
      "epoch:4 | 0.117 - 0.619\n",
      "epoch:5 | 0.116 - 0.654\n",
      "epoch:6 | 0.116 - 0.617\n",
      "epoch:7 | 0.116 - 0.673\n",
      "epoch:8 | 0.116 - 0.686\n",
      "epoch:9 | 0.116 - 0.691\n",
      "epoch:10 | 0.116 - 0.703\n",
      "epoch:11 | 0.116 - 0.705\n",
      "epoch:12 | 0.116 - 0.703\n",
      "epoch:13 | 0.116 - 0.702\n",
      "epoch:14 | 0.116 - 0.698\n",
      "epoch:15 | 0.116 - 0.706\n",
      "epoch:16 | 0.116 - 0.698\n",
      "epoch:17 | 0.116 - 0.707\n",
      "epoch:18 | 0.117 - 0.707\n"
     ]
    },
    {
     "name": "stderr",
     "output_type": "stream",
     "text": [
      "No handles with labels found to put in legend.\n"
     ]
    },
    {
     "name": "stdout",
     "output_type": "stream",
     "text": [
      "epoch:19 | 0.117 - 0.707\n",
      "============== 13/16 ==============\n",
      "epoch:0 | 0.116 - 0.144\n",
      "epoch:1 | 0.117 - 0.533\n",
      "epoch:2 | 0.117 - 0.626\n",
      "epoch:3 | 0.117 - 0.66\n",
      "epoch:4 | 0.117 - 0.654\n",
      "epoch:5 | 0.117 - 0.681\n",
      "epoch:6 | 0.117 - 0.692\n",
      "epoch:7 | 0.117 - 0.724\n",
      "epoch:8 | 0.117 - 0.734\n",
      "epoch:9 | 0.117 - 0.729\n",
      "epoch:10 | 0.117 - 0.739\n",
      "epoch:11 | 0.117 - 0.77\n",
      "epoch:12 | 0.117 - 0.759\n",
      "epoch:13 | 0.117 - 0.784\n",
      "epoch:14 | 0.117 - 0.753\n",
      "epoch:15 | 0.117 - 0.789\n",
      "epoch:16 | 0.117 - 0.794\n",
      "epoch:17 | 0.117 - 0.796\n",
      "epoch:18 | 0.117 - 0.794\n"
     ]
    },
    {
     "name": "stderr",
     "output_type": "stream",
     "text": [
      "No handles with labels found to put in legend.\n"
     ]
    },
    {
     "name": "stdout",
     "output_type": "stream",
     "text": [
      "epoch:19 | 0.117 - 0.798\n",
      "============== 14/16 ==============\n",
      "epoch:0 | 0.087 - 0.127\n",
      "epoch:1 | 0.117 - 0.353\n",
      "epoch:2 | 0.117 - 0.373\n",
      "epoch:3 | 0.117 - 0.367\n",
      "epoch:4 | 0.117 - 0.412\n",
      "epoch:5 | 0.117 - 0.465\n",
      "epoch:6 | 0.117 - 0.427\n",
      "epoch:7 | 0.117 - 0.573\n",
      "epoch:8 | 0.117 - 0.502\n",
      "epoch:9 | 0.117 - 0.506\n",
      "epoch:10 | 0.117 - 0.584\n",
      "epoch:11 | 0.117 - 0.57\n",
      "epoch:12 | 0.117 - 0.598\n",
      "epoch:13 | 0.117 - 0.603\n",
      "epoch:14 | 0.117 - 0.593\n",
      "epoch:15 | 0.117 - 0.591\n",
      "epoch:16 | 0.117 - 0.677\n",
      "epoch:17 | 0.117 - 0.701\n",
      "epoch:18 | 0.117 - 0.679\n"
     ]
    },
    {
     "name": "stderr",
     "output_type": "stream",
     "text": [
      "No handles with labels found to put in legend.\n"
     ]
    },
    {
     "name": "stdout",
     "output_type": "stream",
     "text": [
      "epoch:19 | 0.117 - 0.701\n",
      "============== 15/16 ==============\n",
      "epoch:0 | 0.116 - 0.097\n",
      "epoch:1 | 0.105 - 0.299\n",
      "epoch:2 | 0.105 - 0.379\n",
      "epoch:3 | 0.116 - 0.412\n",
      "epoch:4 | 0.116 - 0.402\n",
      "epoch:5 | 0.116 - 0.418\n",
      "epoch:6 | 0.117 - 0.42\n",
      "epoch:7 | 0.117 - 0.421\n",
      "epoch:8 | 0.117 - 0.421\n",
      "epoch:9 | 0.117 - 0.424\n",
      "epoch:10 | 0.117 - 0.433\n",
      "epoch:11 | 0.117 - 0.429\n",
      "epoch:12 | 0.117 - 0.422\n",
      "epoch:13 | 0.117 - 0.514\n",
      "epoch:14 | 0.117 - 0.504\n",
      "epoch:15 | 0.116 - 0.519\n",
      "epoch:16 | 0.117 - 0.518\n",
      "epoch:17 | 0.117 - 0.613\n",
      "epoch:18 | 0.117 - 0.583\n"
     ]
    },
    {
     "name": "stderr",
     "output_type": "stream",
     "text": [
      "No handles with labels found to put in legend.\n"
     ]
    },
    {
     "name": "stdout",
     "output_type": "stream",
     "text": [
      "epoch:19 | 0.117 - 0.525\n",
      "============== 16/16 ==============\n",
      "epoch:0 | 0.117 - 0.24\n",
      "epoch:1 | 0.117 - 0.239\n",
      "epoch:2 | 0.116 - 0.318\n",
      "epoch:3 | 0.116 - 0.314\n",
      "epoch:4 | 0.117 - 0.337\n",
      "epoch:5 | 0.117 - 0.334\n",
      "epoch:6 | 0.117 - 0.332\n",
      "epoch:7 | 0.117 - 0.413\n",
      "epoch:8 | 0.117 - 0.381\n",
      "epoch:9 | 0.117 - 0.413\n",
      "epoch:10 | 0.117 - 0.416\n",
      "epoch:11 | 0.117 - 0.418\n",
      "epoch:12 | 0.117 - 0.42\n",
      "epoch:13 | 0.117 - 0.423\n",
      "epoch:14 | 0.117 - 0.424\n",
      "epoch:15 | 0.117 - 0.414\n",
      "epoch:16 | 0.117 - 0.421\n",
      "epoch:17 | 0.117 - 0.411\n",
      "epoch:18 | 0.117 - 0.425\n",
      "epoch:19 | 0.117 - 0.176\n"
     ]
    },
    {
     "data": {
      "image/png": "[encoded data removed]",
      "text/plain": [
       "<Figure size 432x288 with 16 Axes>"
      ]
     },
     "metadata": {
      "needs_background": "light"
     },
     "output_type": "display_data"
    }
   ],
   "source": [
    "import sys, os\n",
    "sys.path.append(os.pardir)  # 부모 디렉터리의 파일을 가져올 수 있도록 설정\n",
    "import numpy as np\n",
    "import matplotlib.pyplot as plt\n",
    "from mnist import load_mnist\n",
    "from common.multi_layer_net_extend import MultiLayerNetExtend\n",
    "from common.optimizer import SGD, Adam\n",
    "\n",
    "(x_train, t_train), (x_test, t_test) = load_mnist(normalize=True)\n",
    "\n",
    "# 학습 데이터를 줄임\n",
    "x_train = x_train[:1000]\n",
    "t_train = t_train[:1000]\n",
    "\n",
    "max_epochs = 20\n",
    "train_size = x_train.shape[0]\n",
    "batch_size = 100\n",
    "learning_rate = 0.01\n",
    "\n",
    "\n",
    "def __train(weight_init_std):\n",
    "    bn_network = MultiLayerNetExtend(input_size=784, hidden_size_list=[100, 100, 100, 100, 100], output_size=10, \n",
    "                                    weight_init_std=weight_init_std, use_batchnorm=True)\n",
    "    network = MultiLayerNetExtend(input_size=784, hidden_size_list=[100, 100, 100, 100, 100], output_size=10,\n",
    "                                weight_init_std=weight_init_std)\n",
    "    optimizer = SGD(lr=learning_rate)\n",
    "    \n",
    "    train_acc_list = []\n",
    "    bn_train_acc_list = []\n",
    "    \n",
    "    iter_per_epoch = max(train_size / batch_size, 1)\n",
    "    epoch_cnt = 0\n",
    "    \n",
    "    for i in range(1000000000):\n",
    "        batch_mask = np.random.choice(train_size, batch_size)\n",
    "        x_batch = x_train[batch_mask]\n",
    "        t_batch = t_train[batch_mask]\n",
    "    \n",
    "        for _network in (bn_network, network):\n",
    "            grads = _network.gradient(x_batch, t_batch)\n",
    "            optimizer.update(_network.params, grads)\n",
    "    \n",
    "        if i % iter_per_epoch == 0:\n",
    "            train_acc = network.accuracy(x_train, t_train)\n",
    "            bn_train_acc = bn_network.accuracy(x_train, t_train)\n",
    "            train_acc_list.append(train_acc)\n",
    "            bn_train_acc_list.append(bn_train_acc)\n",
    "    \n",
    "            print(\"epoch:\" + str(epoch_cnt) + \" | \" + str(train_acc) + \" - \" + str(bn_train_acc))\n",
    "    \n",
    "            epoch_cnt += 1\n",
    "            if epoch_cnt >= max_epochs:\n",
    "                break\n",
    "                \n",
    "    return train_acc_list, bn_train_acc_list\n",
    "\n",
    "\n",
    "# 그래프 그리기==========\n",
    "weight_scale_list = np.logspace(0, -4, num=16)\n",
    "x = np.arange(max_epochs)\n",
    "\n",
    "for i, w in enumerate(weight_scale_list):\n",
    "    print( \"============== \" + str(i+1) + \"/16\" + \" ==============\")\n",
    "    train_acc_list, bn_train_acc_list = __train(w)\n",
    "    \n",
    "    plt.subplot(4,4,i+1)\n",
    "    plt.title(\"W:\" + str(w))\n",
    "    if i == 15:\n",
    "        plt.plot(x, bn_train_acc_list, label='Batch Normalization', markevery=2)\n",
    "        plt.plot(x, train_acc_list, linestyle = \"--\", label='Normal(without BatchNorm)', markevery=2)\n",
    "    else:\n",
    "        plt.plot(x, bn_train_acc_list, markevery=2)\n",
    "        plt.plot(x, train_acc_list, linestyle=\"--\", markevery=2)\n",
    "\n",
    "    plt.ylim(0, 1.0)\n",
    "    if i % 4:\n",
    "        plt.yticks([])\n",
    "    else:\n",
    "        plt.ylabel(\"accuracy\")\n",
    "    if i < 12:\n",
    "        plt.xticks([])\n",
    "    else:\n",
    "        plt.xlabel(\"epochs\")\n",
    "    plt.legend(loc='lower right')\n",
    "    \n",
    "plt.show()"
   ]
  },
  {
   "cell_type": "markdown",
   "metadata": {},
   "source": [
    "## 6.4 바른 학습을 위해\n",
    "### 6.4.1 오버피팅\n",
    "오버피팅이 일어나는 주된 경우들\n",
    "- 매개변수가 많고 표현력이 높은 모델\n",
    "- 훈련 데이터가 적음\n",
    "\n",
    "### 6.4.2 가중치 감소\n",
    "### 6.4.3 드롭아웃"
   ]
  },
  {
   "cell_type": "code",
   "execution_count": 11,
   "metadata": {},
   "outputs": [],
   "source": [
    "class Dropout:\n",
    "    def __init__(self, dropout_ratio=0.5):\n",
    "        self.dropout_ratio = dropout_ratio\n",
    "        self.mask = None\n",
    "    \n",
    "    def forward(self, x, train_flg = True):\n",
    "        if train_flg:\n",
    "            self.mask = np.random.rand(*x.shape) > self.dropout_ratio\n",
    "            return x * self.mask\n",
    "        else:\n",
    "            return x * (1.0 - self.dropout_ratio)\n",
    "    \n",
    "    def backward(self, dout):\n",
    "        return dout * self.mask"
   ]
  },
  {
   "cell_type": "markdown",
   "metadata": {},
   "source": [
    "## 6.5 적절한 하이퍼파라미터 값 찾기\n",
    "### 6.5.2 하이퍼파라미터 최적화\n",
    "- 0단계: 하이퍼파라미터 값의 범위를 설정\n",
    "- 1단계: 설정된 범위에서 하이퍼파라미터의 값을 무작위로 추출\n",
    "- 2단계: 1단계에서 샘플링한 하이퍼파라미터 값을 사용하여 학습하고, 검증 데이터로 정확도를 평가(단, 에폭은 작게 설정)\n",
    "- 3단계: 1단계와 2단계를 특정 횟수(100회 등) 반복하며, 그 정확도의 결과를 보고 하이퍼파라미터의 범위를 좁힘."
   ]
  },
  {
   "cell_type": "code",
   "execution_count": null,
   "metadata": {},
   "outputs": [],
   "source": []
  },
  {
   "cell_type": "code",
   "execution_count": null,
   "metadata": {},
   "outputs": [],
   "source": []
  }
 ],
 "metadata": {
  "kernelspec": {
   "display_name": "Python 3",
   "language": "python",
   "name": "python3"
  },
  "language_info": {
   "codemirror_mode": {
    "name": "ipython",
    "version": 3
   },
   "file_extension": ".py",
   "mimetype": "text/x-python",
   "name": "python",
   "nbconvert_exporter": "python",
   "pygments_lexer": "ipython3",
   "version": "3.7.4"
  }
 },
 "nbformat": 4,
 "nbformat_minor": 4
}
